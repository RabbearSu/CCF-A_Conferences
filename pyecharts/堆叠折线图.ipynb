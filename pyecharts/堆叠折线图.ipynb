{
 "cells": [
  {
   "cell_type": "code",
   "execution_count": 2,
   "metadata": {},
   "outputs": [],
   "source": [
    "import pyecharts.options as opts\n",
    "from pyecharts.charts import Line\n"
   ]
  },
  {
   "cell_type": "code",
   "execution_count": 4,
   "metadata": {},
   "outputs": [
    {
     "data": {
      "text/plain": [
       "'C:\\\\Users\\\\CYG-PC\\\\WebstormProjects\\\\CCF-A_Conferences\\\\pyecharts\\\\ACL各主题趋势图.html'"
      ]
     },
     "execution_count": 4,
     "metadata": {},
     "output_type": "execute_result"
    }
   ],
   "source": [
    "x_data = [\"2017\",\"2018\",\"2019\"]\n",
    "\n",
    "aclDict = {'model': [37, 35, 57], 'language': [29, 31, 65], 'machine': [26, 24, 49], 'translation': [25, 24, 52], 'word': [24, 27, 41], 'text': [23, 17, 47], 'semantic': [21, 27, 31], 'parsing': [21, 25, 29], 'relation': [17, 14, 31], 'embedding': [16, 25, 47]}\n",
    "icmlDict = {'model': [42, 49, 71], 'optimization': [26, 39, 39], 'gradient': [25, 39, 36], 'stochastic': [23, 32, 32], 'reinforcement': [21, 40, 43], 'bayesian': [18, 22, 29], 'online': [17, 5, 18], 'algorithm': [17, 28, 32], 'data': [16, 26, 36], 'feature': [14, 11, 12]}\n",
    "\n",
    "\n",
    "line = Line()\n",
    "line.add_xaxis(xaxis_data=x_data)\n",
    "\n",
    "for key, value in aclDict.items():\n",
    "    line.add_yaxis(\n",
    "    series_name=key,\n",
    "    stack=\"总量\",\n",
    "    y_axis=value,\n",
    "    label_opts=opts.LabelOpts(is_show=True),\n",
    "    )\n",
    "line.set_global_opts(\n",
    "    title_opts=opts.TitleOpts(title=\"ACL\"),\n",
    "    tooltip_opts=opts.TooltipOpts(trigger=\"axis\"),\n",
    "    yaxis_opts=opts.AxisOpts(\n",
    "        type_=\"value\",\n",
    "        axistick_opts=opts.AxisTickOpts(is_show=True),\n",
    "        splitline_opts=opts.SplitLineOpts(is_show=True),\n",
    "    ),\n",
    "    xaxis_opts=opts.AxisOpts(type_=\"category\", boundary_gap=True),\n",
    ")\n",
    "\n",
    "line.render(\"ACL各主题趋势图.html\")\n",
    "\n",
    "\n"
   ]
  },
  {
   "cell_type": "code",
   "execution_count": null,
   "metadata": {},
   "outputs": [],
   "source": []
  }
 ],
 "metadata": {
  "kernelspec": {
   "display_name": "Python 3",
   "language": "python",
   "name": "python3"
  },
  "language_info": {
   "codemirror_mode": {
    "name": "ipython",
    "version": 3
   },
   "file_extension": ".py",
   "mimetype": "text/x-python",
   "name": "python",
   "nbconvert_exporter": "python",
   "pygments_lexer": "ipython3",
   "version": "3.6.8"
  }
 },
 "nbformat": 4,
 "nbformat_minor": 2
}
