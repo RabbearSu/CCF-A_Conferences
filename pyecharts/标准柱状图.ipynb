{
 "cells": [
  {
   "cell_type": "code",
   "execution_count": 1,
   "metadata": {},
   "outputs": [],
   "source": [
    "from pyecharts.faker import Faker\n",
    "from pyecharts import options as opts\n",
    "from pyecharts.charts import Bar"
   ]
  },
  {
   "cell_type": "code",
   "execution_count": 12,
   "metadata": {},
   "outputs": [
    {
     "data": {
      "text/plain": [
       "'C:\\\\Users\\\\CYG-PC\\\\Desktop\\\\pyecharts-master\\\\render.html'"
      ]
     },
     "execution_count": 12,
     "metadata": {},
     "output_type": "execute_result"
    }
   ],
   "source": [
    " c = (\n",
    "        Bar()\n",
    "        .add_xaxis([\"2014\",\"2015\",\"2016\",\"2017\",\"2018\",\"2019\"])\n",
    "#         .add_yaxis(\"录取数\", [270, 434, 621, 773])\n",
    "#         .add_yaxis(\"投稿数\", [1037,1676,2473,3424])\n",
    "        .add_yaxis(\"录取率\", [25.4,23.7,25.5,22.9,24.9,22.7])\n",
    "        .set_global_opts(title_opts=opts.TitleOpts(title=\"ACL历年论文接收率\", subtitle=\"\"))\n",
    "    )\n",
    "    \n",
    "c.render()"
   ]
  }
 ],
 "metadata": {
  "kernelspec": {
   "display_name": "Python 3",
   "language": "python",
   "name": "python3"
  },
  "language_info": {
   "codemirror_mode": {
    "name": "ipython",
    "version": 3
   },
   "file_extension": ".py",
   "mimetype": "text/x-python",
   "name": "python",
   "nbconvert_exporter": "python",
   "pygments_lexer": "ipython3",
   "version": "3.6.8"
  }
 },
 "nbformat": 4,
 "nbformat_minor": 2
}
