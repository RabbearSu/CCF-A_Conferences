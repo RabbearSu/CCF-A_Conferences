{
 "cells": [
  {
   "cell_type": "code",
   "execution_count": 2,
   "metadata": {},
   "outputs": [],
   "source": [
    "from pyecharts.faker import Faker\n",
    "from pyecharts import options as opts\n",
    "from pyecharts.charts import Page, Pie"
   ]
  },
  {
   "cell_type": "code",
   "execution_count": 10,
   "metadata": {},
   "outputs": [
    {
     "data": {
      "text/plain": [
       "'C:\\\\Users\\\\CYG-PC\\\\Desktop\\\\pyecharts-master\\\\render.html'"
      ]
     },
     "execution_count": 10,
     "metadata": {},
     "output_type": "execute_result"
    }
   ],
   "source": [
    "# acl 2017\n",
    "a = [['model', 37], ['language', 29], ['machine', 26], ['translation', 25], ['word', 24], ['text', 23], ['semantic', 21], ['parsing', 21], ['relation', 17], ['embedding', 16], ['extraction', 14], ['generation', 14], ['knowledge', 13], ['question', 12], ['detection', 12], ['attention', 11], ['dependency', 11], ['analysis', 11], ['classification', 10], ['data', 10], ['discourse', 10], ['modeling', 10], ['answering', 9], ['prediction', 9], ['chinese', 9], ['representation', 8], ['joint', 8], ['reading', 8], ['sequence', 8], ['sentiment', 8]]\n",
    "\n",
    "# acl 2018\n",
    "# a = [['model', 35], ['language', 31], ['semantic', 27], ['word', 27], ['embedding', 25], ['parsing', 25], ['translation', 24], ['machine', 24], ['representation', 19], ['knowledge', 18], ['generation', 17], ['modeling', 17], ['text', 17], ['document', 17], ['extraction', 17], ['attention', 16], ['sentiment', 15], ['classification', 15], ['sentence', 14], ['relation', 14], ['graph', 13], ['entity', 13], ['improving', 13], ['question', 13], ['automatic', 13], ['prediction', 12], ['analysis', 10], ['end-to-end', 10], ['detection', 10], ['unsupervised', 10]]\n",
    "\n",
    "# acl 2019\n",
    "# a = [['language', 65], ['model', 57], ['translation', 52], ['machine', 49], ['text', 47], ['embedding', 47], ['generation', 44], ['word', 41], ['question', 34], ['representation', 33], ['relation', 31], ['semantic', 31], ['modeling', 30], ['unsupervised', 30], ['parsing', 29], ['graph', 28], ['dialogue', 25], ['answering', 25], ['knowledge', 24], ['attention', 23], ['detection', 23], ['summarization', 23], ['extraction', 23], ['natural', 22], ['sentence', 22], ['toward', 22], ['entity', 20], ['classification', 19], ['reading', 18], ['comprehension', 18]]\n",
    "\n",
    "# icml 2017\n",
    "# a = [['model', 42], ['optimization', 26], ['gradient', 25], ['stochastic', 23], ['reinforcement', 21], ['bayesian', 18], ['online', 17], ['algorithm', 17], ['data', 16], ['feature', 14], ['efficient', 14], ['clustering', 14], ['distributed', 13], ['estimation', 13], ['kernel', 13], ['inference', 13], ['robust', 12], ['generative', 12], ['sparse', 12], ['adaptive', 12], ['variational', 11], ['gaussian', 11], ['method', 11], ['function', 11], ['adversarial', 10], ['matrix', 10], ['descent', 10], ['classification', 9], ['prediction', 9], ['processes', 9]]\n",
    "\n",
    "# icml 2018\n",
    "# a = [['model', 49], ['reinforcement', 40], ['gradient', 39], ['optimization', 39], ['stochastic', 32], ['algorithm', 28], ['adversarial', 26], ['data', 26], ['variational', 25], ['method', 22], ['efficient', 22], ['bayesian', 22], ['inference', 22], ['fast', 21], ['generative', 18], ['estimation', 17], ['distributed', 16], ['graph', 16], ['matrix', 15], ['adaptive', 15], ['robust', 15], ['clustering', 15], ['policy', 14], ['prediction', 14], ['linear', 14], ['function', 14], ['sparse', 14], ['descent', 14], ['control', 13], ['structured', 13]]\n",
    "\n",
    "# icml 2019\n",
    "# a = [['model', 71], ['reinforcement', 43], ['adversarial', 42], ['optimization', 39], ['gradient', 36], ['data', 36], ['graph', 35], ['inference', 35], ['stochastic', 32], ['algorithm', 32], ['efficient', 30], ['generative', 29], ['bayesian', 29], ['variational', 27], ['representation', 24], ['optimal', 23], ['training', 22], ['analysis', 22], ['adaptive', 21], ['function', 21], ['online', 18], ['robust', 18], ['policy', 18], ['descent', 18], ['application', 18], ['linear', 18], ['kernel', 17], ['estimation', 16], ['structured', 15], ['understanding', 15]]\n",
    "\n",
    "c = (\n",
    "    Pie()\n",
    "    .add(\n",
    "        \"\",\n",
    "        a,\n",
    "#         radius=[\"40%\", \"75%\"],\n",
    "        center=[\"65%\", \"55%\"],\n",
    "    )\n",
    "    .set_global_opts(\n",
    "        title_opts=opts.TitleOpts(title=\"ACL-2017\"),\n",
    "        legend_opts=opts.LegendOpts(\n",
    "            orient=\"vertical\", pos_top=\"10%\", pos_left=\"0%\"\n",
    "        ),\n",
    "    )\n",
    "    .set_series_opts(label_opts=opts.LabelOpts(formatter=\"{b}: {c}\"))\n",
    ")\n",
    "\n",
    "\n",
    "c.render()"
   ]
  },
  {
   "cell_type": "code",
   "execution_count": null,
   "metadata": {},
   "outputs": [],
   "source": []
  }
 ],
 "metadata": {
  "kernelspec": {
   "display_name": "Python 3",
   "language": "python",
   "name": "python3"
  },
  "language_info": {
   "codemirror_mode": {
    "name": "ipython",
    "version": 3
   },
   "file_extension": ".py",
   "mimetype": "text/x-python",
   "name": "python",
   "nbconvert_exporter": "python",
   "pygments_lexer": "ipython3",
   "version": "3.6.8"
  }
 },
 "nbformat": 4,
 "nbformat_minor": 2
}
