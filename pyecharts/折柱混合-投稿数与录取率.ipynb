{
 "cells": [
  {
   "cell_type": "code",
   "execution_count": 11,
   "metadata": {},
   "outputs": [
    {
     "data": {
      "text/plain": [
       "'C:\\\\Users\\\\CYG-PC\\\\WebstormProjects\\\\CCF-A_Conferences\\\\pyecharts\\\\ICML历年投稿论文数情况.html'"
      ]
     },
     "execution_count": 11,
     "metadata": {},
     "output_type": "execute_result"
    }
   ],
   "source": [
    "import pyecharts.options as opts\n",
    "from pyecharts.charts import Bar, Line\n",
    "\n",
    "acl_year = [\"2014\",\"2015\",\"2016\",\"2017\",\"2018\",\"2019\"]\n",
    "icml_year = [\"2015\",\"2017\",\"2018\",\"2019\"]\n",
    "\n",
    "acl_recieve = [285,318,328,302,384,660]\n",
    "acl_submit = [1123,1340,1288,1318,1544,2905]\n",
    "acl_rate = [25.4,23.7,25.5,22.9,24.9,22.7]\n",
    "\n",
    "icml_recieve = [270,434,621,773]\n",
    "icml_submit = [1037,1676,2473,3423]\n",
    "icml_rate = [26, 25.9,25.1,22.6]\n",
    "\n",
    "title = \"ICML历年投稿论文数情况\"\n",
    "\n",
    "bar = (\n",
    "    Bar(init_opts=opts.InitOpts(width=\"1200px\", height=\"600px\"))\n",
    "    # 横坐标\n",
    "    .add_xaxis(xaxis_data=icml_year)\n",
    "    .add_yaxis(\n",
    "        series_name=\"接收数\",\n",
    "        yaxis_data=icml_recieve,\n",
    "        label_opts=opts.LabelOpts(is_show=True),\n",
    "    )\n",
    "    .add_yaxis(\n",
    "        series_name=\"投稿数\",\n",
    "        yaxis_data=icml_submit,\n",
    "        label_opts=opts.LabelOpts(is_show=True),\n",
    "    )\n",
    "    .extend_axis(\n",
    "        yaxis=opts.AxisOpts(\n",
    "            name=\"接收率\",\n",
    "            type_=\"value\",\n",
    "            min_=22,\n",
    "            max_=26,\n",
    "            interval=1,\n",
    "            axislabel_opts=opts.LabelOpts(formatter=\"{value}%\"),\n",
    "        )\n",
    "    )\n",
    "    .set_global_opts(\n",
    "        title_opts=opts.TitleOpts(title=title),\n",
    "        tooltip_opts=opts.TooltipOpts(\n",
    "            is_show=True, trigger=\"axis\", axis_pointer_type=\"cross\"\n",
    "        ),\n",
    "        xaxis_opts=opts.AxisOpts(\n",
    "            type_=\"category\",\n",
    "            axispointer_opts=opts.AxisPointerOpts(is_show=True, type_=\"shadow\"),\n",
    "        ),\n",
    "        yaxis_opts=opts.AxisOpts(\n",
    "            name=\"论文数量\",\n",
    "            type_=\"value\",\n",
    "            min_=0,\n",
    "            max_=3500,\n",
    "            interval=500,\n",
    "            axislabel_opts=opts.LabelOpts(formatter=\"{value} 篇\"),\n",
    "            axistick_opts=opts.AxisTickOpts(is_show=True),\n",
    "            splitline_opts=opts.SplitLineOpts(is_show=True),\n",
    "        ),\n",
    "    )\n",
    ")\n",
    "\n",
    "line = (\n",
    "    Line()\n",
    "    # 横坐标\n",
    "    .add_xaxis(xaxis_data=icml_year)\n",
    "    .add_yaxis(\n",
    "        series_name=\"接收率\",\n",
    "        yaxis_index=1,\n",
    "        y_axis=icml_rate,\n",
    "        label_opts=opts.LabelOpts(is_show=True),\n",
    "    )\n",
    ")\n",
    "\n",
    "#\n",
    "bar.overlap(line).render(title+\".html\")"
   ]
  },
  {
   "cell_type": "code",
   "execution_count": null,
   "metadata": {},
   "outputs": [],
   "source": []
  }
 ],
 "metadata": {
  "kernelspec": {
   "display_name": "Python 3",
   "language": "python",
   "name": "python3"
  },
  "language_info": {
   "codemirror_mode": {
    "name": "ipython",
    "version": 3
   },
   "file_extension": ".py",
   "mimetype": "text/x-python",
   "name": "python",
   "nbconvert_exporter": "python",
   "pygments_lexer": "ipython3",
   "version": "3.6.8"
  }
 },
 "nbformat": 4,
 "nbformat_minor": 2
}
